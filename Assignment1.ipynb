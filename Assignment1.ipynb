{
 "cells": [
  {
   "cell_type": "code",
   "execution_count": 61,
   "metadata": {},
   "outputs": [],
   "source": [
    "import pandas as pd\n",
    "import numpy as np\n",
    "import seaborn as sns"
   ]
  },
  {
   "cell_type": "code",
   "execution_count": 26,
   "metadata": {},
   "outputs": [],
   "source": [
    "df=pd.read_csv('/Users/sunnyli/Desktop/sales_data.csv')"
   ]
  },
  {
   "cell_type": "code",
   "execution_count": 27,
   "metadata": {},
   "outputs": [
    {
     "data": {
      "text/html": [
       "<div>\n",
       "<style scoped>\n",
       "    .dataframe tbody tr th:only-of-type {\n",
       "        vertical-align: middle;\n",
       "    }\n",
       "\n",
       "    .dataframe tbody tr th {\n",
       "        vertical-align: top;\n",
       "    }\n",
       "\n",
       "    .dataframe thead th {\n",
       "        text-align: right;\n",
       "    }\n",
       "</style>\n",
       "<table border=\"1\" class=\"dataframe\">\n",
       "  <thead>\n",
       "    <tr style=\"text-align: right;\">\n",
       "      <th></th>\n",
       "      <th>Product</th>\n",
       "      <th>Region</th>\n",
       "      <th>Price</th>\n",
       "      <th>Units Sold</th>\n",
       "      <th>Sale Date</th>\n",
       "    </tr>\n",
       "  </thead>\n",
       "  <tbody>\n",
       "    <tr>\n",
       "      <th>0</th>\n",
       "      <td>NaN</td>\n",
       "      <td>Region_6</td>\n",
       "      <td>75.96</td>\n",
       "      <td>10.0</td>\n",
       "      <td>2022-01-01</td>\n",
       "    </tr>\n",
       "    <tr>\n",
       "      <th>1</th>\n",
       "      <td>NaN</td>\n",
       "      <td>Region_1</td>\n",
       "      <td>175.78</td>\n",
       "      <td>8.0</td>\n",
       "      <td>2022-01-02</td>\n",
       "    </tr>\n",
       "    <tr>\n",
       "      <th>2</th>\n",
       "      <td>Product_46</td>\n",
       "      <td>Region_3</td>\n",
       "      <td>20.43</td>\n",
       "      <td>12.0</td>\n",
       "      <td>2022-01-03</td>\n",
       "    </tr>\n",
       "    <tr>\n",
       "      <th>3</th>\n",
       "      <td>Product_36</td>\n",
       "      <td>Region_1</td>\n",
       "      <td>12.77</td>\n",
       "      <td>10.0</td>\n",
       "      <td>2022-01-04</td>\n",
       "    </tr>\n",
       "    <tr>\n",
       "      <th>4</th>\n",
       "      <td>Product_17</td>\n",
       "      <td>Region_6</td>\n",
       "      <td>125.69</td>\n",
       "      <td>6.0</td>\n",
       "      <td>2022-01-05</td>\n",
       "    </tr>\n",
       "    <tr>\n",
       "      <th>...</th>\n",
       "      <td>...</td>\n",
       "      <td>...</td>\n",
       "      <td>...</td>\n",
       "      <td>...</td>\n",
       "      <td>...</td>\n",
       "    </tr>\n",
       "    <tr>\n",
       "      <th>1045</th>\n",
       "      <td>Product_45</td>\n",
       "      <td>Region_7</td>\n",
       "      <td>78.69</td>\n",
       "      <td>8.0</td>\n",
       "      <td>2022-07-28</td>\n",
       "    </tr>\n",
       "    <tr>\n",
       "      <th>1046</th>\n",
       "      <td>Product_1</td>\n",
       "      <td>Region_6</td>\n",
       "      <td>NaN</td>\n",
       "      <td>8.0</td>\n",
       "      <td>2022-08-02</td>\n",
       "    </tr>\n",
       "    <tr>\n",
       "      <th>1047</th>\n",
       "      <td>Product_17</td>\n",
       "      <td>Region_2</td>\n",
       "      <td>114.37</td>\n",
       "      <td>11.0</td>\n",
       "      <td>2023-12-18</td>\n",
       "    </tr>\n",
       "    <tr>\n",
       "      <th>1048</th>\n",
       "      <td>NaN</td>\n",
       "      <td>Region_8</td>\n",
       "      <td>NaN</td>\n",
       "      <td>5.0</td>\n",
       "      <td>2023-12-27</td>\n",
       "    </tr>\n",
       "    <tr>\n",
       "      <th>1049</th>\n",
       "      <td>Product_16</td>\n",
       "      <td>Region_2</td>\n",
       "      <td>69.30</td>\n",
       "      <td>8.0</td>\n",
       "      <td>2024-02-23</td>\n",
       "    </tr>\n",
       "  </tbody>\n",
       "</table>\n",
       "<p>1050 rows × 5 columns</p>\n",
       "</div>"
      ],
      "text/plain": [
       "         Product    Region   Price  Units Sold   Sale Date\n",
       "0            NaN  Region_6   75.96        10.0  2022-01-01\n",
       "1            NaN  Region_1  175.78         8.0  2022-01-02\n",
       "2     Product_46  Region_3   20.43        12.0  2022-01-03\n",
       "3     Product_36  Region_1   12.77        10.0  2022-01-04\n",
       "4     Product_17  Region_6  125.69         6.0  2022-01-05\n",
       "...          ...       ...     ...         ...         ...\n",
       "1045  Product_45  Region_7   78.69         8.0  2022-07-28\n",
       "1046   Product_1  Region_6     NaN         8.0  2022-08-02\n",
       "1047  Product_17  Region_2  114.37        11.0  2023-12-18\n",
       "1048         NaN  Region_8     NaN         5.0  2023-12-27\n",
       "1049  Product_16  Region_2   69.30         8.0  2024-02-23\n",
       "\n",
       "[1050 rows x 5 columns]"
      ]
     },
     "execution_count": 27,
     "metadata": {},
     "output_type": "execute_result"
    }
   ],
   "source": [
    "df"
   ]
  },
  {
   "cell_type": "code",
   "execution_count": 28,
   "metadata": {},
   "outputs": [
    {
     "data": {
      "text/plain": [
       "<bound method DataFrame.info of          Product    Region   Price  Units Sold   Sale Date\n",
       "0            NaN  Region_6   75.96        10.0  2022-01-01\n",
       "1            NaN  Region_1  175.78         8.0  2022-01-02\n",
       "2     Product_46  Region_3   20.43        12.0  2022-01-03\n",
       "3     Product_36  Region_1   12.77        10.0  2022-01-04\n",
       "4     Product_17  Region_6  125.69         6.0  2022-01-05\n",
       "...          ...       ...     ...         ...         ...\n",
       "1045  Product_45  Region_7   78.69         8.0  2022-07-28\n",
       "1046   Product_1  Region_6     NaN         8.0  2022-08-02\n",
       "1047  Product_17  Region_2  114.37        11.0  2023-12-18\n",
       "1048         NaN  Region_8     NaN         5.0  2023-12-27\n",
       "1049  Product_16  Region_2   69.30         8.0  2024-02-23\n",
       "\n",
       "[1050 rows x 5 columns]>"
      ]
     },
     "execution_count": 28,
     "metadata": {},
     "output_type": "execute_result"
    }
   ],
   "source": [
    "df.info"
   ]
  },
  {
   "cell_type": "code",
   "execution_count": 29,
   "metadata": {},
   "outputs": [
    {
     "data": {
      "text/plain": [
       "Product        object\n",
       "Region         object\n",
       "Price         float64\n",
       "Units Sold    float64\n",
       "Sale Date      object\n",
       "dtype: object"
      ]
     },
     "execution_count": 29,
     "metadata": {},
     "output_type": "execute_result"
    }
   ],
   "source": [
    "df.dtypes"
   ]
  },
  {
   "attachments": {},
   "cell_type": "markdown",
   "metadata": {},
   "source": [
    "As each column contains the nan value, I am considering whether delete or change the name for the object column.\n",
    "For the column with floats, i can filling the missing value with the mean value to make the dataset more accurate."
   ]
  },
  {
   "cell_type": "code",
   "execution_count": 31,
   "metadata": {},
   "outputs": [
    {
     "data": {
      "text/html": [
       "<div>\n",
       "<style scoped>\n",
       "    .dataframe tbody tr th:only-of-type {\n",
       "        vertical-align: middle;\n",
       "    }\n",
       "\n",
       "    .dataframe tbody tr th {\n",
       "        vertical-align: top;\n",
       "    }\n",
       "\n",
       "    .dataframe thead th {\n",
       "        text-align: right;\n",
       "    }\n",
       "</style>\n",
       "<table border=\"1\" class=\"dataframe\">\n",
       "  <thead>\n",
       "    <tr style=\"text-align: right;\">\n",
       "      <th></th>\n",
       "      <th>Product</th>\n",
       "      <th>Region</th>\n",
       "      <th>Price</th>\n",
       "      <th>Units Sold</th>\n",
       "      <th>Sale Date</th>\n",
       "    </tr>\n",
       "  </thead>\n",
       "  <tbody>\n",
       "    <tr>\n",
       "      <th>count</th>\n",
       "      <td>947</td>\n",
       "      <td>946</td>\n",
       "      <td>945.000000</td>\n",
       "      <td>946.000000</td>\n",
       "      <td>1050</td>\n",
       "    </tr>\n",
       "    <tr>\n",
       "      <th>unique</th>\n",
       "      <td>50</td>\n",
       "      <td>10</td>\n",
       "      <td>NaN</td>\n",
       "      <td>NaN</td>\n",
       "      <td>1000</td>\n",
       "    </tr>\n",
       "    <tr>\n",
       "      <th>top</th>\n",
       "      <td>Product_45</td>\n",
       "      <td>Region_9</td>\n",
       "      <td>NaN</td>\n",
       "      <td>NaN</td>\n",
       "      <td>2022-07-28</td>\n",
       "    </tr>\n",
       "    <tr>\n",
       "      <th>freq</th>\n",
       "      <td>28</td>\n",
       "      <td>109</td>\n",
       "      <td>NaN</td>\n",
       "      <td>NaN</td>\n",
       "      <td>2</td>\n",
       "    </tr>\n",
       "    <tr>\n",
       "      <th>mean</th>\n",
       "      <td>NaN</td>\n",
       "      <td>NaN</td>\n",
       "      <td>107.598688</td>\n",
       "      <td>10.048626</td>\n",
       "      <td>NaN</td>\n",
       "    </tr>\n",
       "    <tr>\n",
       "      <th>std</th>\n",
       "      <td>NaN</td>\n",
       "      <td>NaN</td>\n",
       "      <td>124.020322</td>\n",
       "      <td>3.172261</td>\n",
       "      <td>NaN</td>\n",
       "    </tr>\n",
       "    <tr>\n",
       "      <th>min</th>\n",
       "      <td>NaN</td>\n",
       "      <td>NaN</td>\n",
       "      <td>0.200000</td>\n",
       "      <td>2.000000</td>\n",
       "      <td>NaN</td>\n",
       "    </tr>\n",
       "    <tr>\n",
       "      <th>25%</th>\n",
       "      <td>NaN</td>\n",
       "      <td>NaN</td>\n",
       "      <td>29.430000</td>\n",
       "      <td>8.000000</td>\n",
       "      <td>NaN</td>\n",
       "    </tr>\n",
       "    <tr>\n",
       "      <th>50%</th>\n",
       "      <td>NaN</td>\n",
       "      <td>NaN</td>\n",
       "      <td>78.130000</td>\n",
       "      <td>10.000000</td>\n",
       "      <td>NaN</td>\n",
       "    </tr>\n",
       "    <tr>\n",
       "      <th>75%</th>\n",
       "      <td>NaN</td>\n",
       "      <td>NaN</td>\n",
       "      <td>142.570000</td>\n",
       "      <td>12.000000</td>\n",
       "      <td>NaN</td>\n",
       "    </tr>\n",
       "    <tr>\n",
       "      <th>max</th>\n",
       "      <td>NaN</td>\n",
       "      <td>NaN</td>\n",
       "      <td>2143.300000</td>\n",
       "      <td>22.000000</td>\n",
       "      <td>NaN</td>\n",
       "    </tr>\n",
       "  </tbody>\n",
       "</table>\n",
       "</div>"
      ],
      "text/plain": [
       "           Product    Region        Price  Units Sold   Sale Date\n",
       "count          947       946   945.000000  946.000000        1050\n",
       "unique          50        10          NaN         NaN        1000\n",
       "top     Product_45  Region_9          NaN         NaN  2022-07-28\n",
       "freq            28       109          NaN         NaN           2\n",
       "mean           NaN       NaN   107.598688   10.048626         NaN\n",
       "std            NaN       NaN   124.020322    3.172261         NaN\n",
       "min            NaN       NaN     0.200000    2.000000         NaN\n",
       "25%            NaN       NaN    29.430000    8.000000         NaN\n",
       "50%            NaN       NaN    78.130000   10.000000         NaN\n",
       "75%            NaN       NaN   142.570000   12.000000         NaN\n",
       "max            NaN       NaN  2143.300000   22.000000         NaN"
      ]
     },
     "execution_count": 31,
     "metadata": {},
     "output_type": "execute_result"
    }
   ],
   "source": [
    "df.describe(include='all')\n"
   ]
  },
  {
   "attachments": {},
   "cell_type": "markdown",
   "metadata": {},
   "source": [
    "I decided to filling the missing value in column price and units sold with mean value. Since it can directly see in the chart above. Then, I can use same code to doublecheck the count, mean has been changed after cleaning."
   ]
  },
  {
   "cell_type": "code",
   "execution_count": 32,
   "metadata": {},
   "outputs": [
    {
     "name": "stdout",
     "output_type": "stream",
     "text": [
      "Defaulting to user installation because normal site-packages is not writeable\n",
      "Requirement already satisfied: seaborn in /Users/sunnyli/Library/Python/3.9/lib/python/site-packages (0.12.2)\n",
      "Requirement already satisfied: matplotlib!=3.6.1,>=3.1 in /Users/sunnyli/Library/Python/3.9/lib/python/site-packages (from seaborn) (3.7.1)\n",
      "Requirement already satisfied: pandas>=0.25 in /Users/sunnyli/Library/Python/3.9/lib/python/site-packages (from seaborn) (2.0.1)\n",
      "Requirement already satisfied: numpy!=1.24.0,>=1.17 in /Users/sunnyli/Library/Python/3.9/lib/python/site-packages (from seaborn) (1.24.3)\n",
      "Requirement already satisfied: fonttools>=4.22.0 in /Users/sunnyli/Library/Python/3.9/lib/python/site-packages (from matplotlib!=3.6.1,>=3.1->seaborn) (4.39.3)\n",
      "Requirement already satisfied: contourpy>=1.0.1 in /Users/sunnyli/Library/Python/3.9/lib/python/site-packages (from matplotlib!=3.6.1,>=3.1->seaborn) (1.0.7)\n",
      "Requirement already satisfied: kiwisolver>=1.0.1 in /Users/sunnyli/Library/Python/3.9/lib/python/site-packages (from matplotlib!=3.6.1,>=3.1->seaborn) (1.4.4)\n",
      "Requirement already satisfied: cycler>=0.10 in /Users/sunnyli/Library/Python/3.9/lib/python/site-packages (from matplotlib!=3.6.1,>=3.1->seaborn) (0.11.0)\n",
      "Requirement already satisfied: pillow>=6.2.0 in /Users/sunnyli/Library/Python/3.9/lib/python/site-packages (from matplotlib!=3.6.1,>=3.1->seaborn) (9.5.0)\n",
      "Requirement already satisfied: importlib-resources>=3.2.0 in /Users/sunnyli/Library/Python/3.9/lib/python/site-packages (from matplotlib!=3.6.1,>=3.1->seaborn) (5.12.0)\n",
      "Requirement already satisfied: pyparsing>=2.3.1 in /Users/sunnyli/Library/Python/3.9/lib/python/site-packages (from matplotlib!=3.6.1,>=3.1->seaborn) (3.0.9)\n",
      "Requirement already satisfied: python-dateutil>=2.7 in /Users/sunnyli/Library/Python/3.9/lib/python/site-packages (from matplotlib!=3.6.1,>=3.1->seaborn) (2.8.2)\n",
      "Requirement already satisfied: packaging>=20.0 in /Users/sunnyli/Library/Python/3.9/lib/python/site-packages (from matplotlib!=3.6.1,>=3.1->seaborn) (23.1)\n",
      "Requirement already satisfied: zipp>=3.1.0 in /Users/sunnyli/Library/Python/3.9/lib/python/site-packages (from importlib-resources>=3.2.0->matplotlib!=3.6.1,>=3.1->seaborn) (3.15.0)\n",
      "Requirement already satisfied: tzdata>=2022.1 in /Users/sunnyli/Library/Python/3.9/lib/python/site-packages (from pandas>=0.25->seaborn) (2023.3)\n",
      "Requirement already satisfied: pytz>=2020.1 in /Users/sunnyli/Library/Python/3.9/lib/python/site-packages (from pandas>=0.25->seaborn) (2023.3)\n",
      "Requirement already satisfied: six>=1.5 in /Library/Developer/CommandLineTools/Library/Frameworks/Python3.framework/Versions/3.9/lib/python3.9/site-packages (from python-dateutil>=2.7->matplotlib!=3.6.1,>=3.1->seaborn) (1.15.0)\n",
      "\u001b[33mWARNING: You are using pip version 21.2.4; however, version 23.1.2 is available.\n",
      "You should consider upgrading via the '/Library/Developer/CommandLineTools/usr/bin/python3 -m pip install --upgrade pip' command.\u001b[0m\n",
      "Note: you may need to restart the kernel to use updated packages.\n"
     ]
    }
   ],
   "source": [
    "pip install seaborn"
   ]
  },
  {
   "cell_type": "code",
   "execution_count": 33,
   "metadata": {},
   "outputs": [
    {
     "data": {
      "text/plain": [
       "<Axes: xlabel='Price', ylabel='Count'>"
      ]
     },
     "execution_count": 33,
     "metadata": {},
     "output_type": "execute_result"
    },
    {
     "data": {
      "image/png": "[encoded data removed]",
      "text/plain": [
       "<Figure size 640x480 with 1 Axes>"
      ]
     },
     "metadata": {},
     "output_type": "display_data"
    }
   ],
   "source": [
    "sns.histplot(df['Price'])"
   ]
  },
  {
   "attachments": {},
   "cell_type": "markdown",
   "metadata": {},
   "source": [
    "I think the outlier of price will affect my analysis, but the outlier of Units sold is acceptable.\n",
    "Histplot is very clear and direct help me to see the price outlier. Since it is too far away from the other data, I decided to delete which lead in more accruate dataset."
   ]
  },
  {
   "cell_type": "code",
   "execution_count": 34,
   "metadata": {},
   "outputs": [
    {
     "data": {
      "text/html": [
       "<div>\n",
       "<style scoped>\n",
       "    .dataframe tbody tr th:only-of-type {\n",
       "        vertical-align: middle;\n",
       "    }\n",
       "\n",
       "    .dataframe tbody tr th {\n",
       "        vertical-align: top;\n",
       "    }\n",
       "\n",
       "    .dataframe thead th {\n",
       "        text-align: right;\n",
       "    }\n",
       "</style>\n",
       "<table border=\"1\" class=\"dataframe\">\n",
       "  <thead>\n",
       "    <tr style=\"text-align: right;\">\n",
       "      <th></th>\n",
       "      <th>Product</th>\n",
       "      <th>Region</th>\n",
       "      <th>Price</th>\n",
       "      <th>Units Sold</th>\n",
       "      <th>Sale Date</th>\n",
       "    </tr>\n",
       "  </thead>\n",
       "  <tbody>\n",
       "    <tr>\n",
       "      <th>969</th>\n",
       "      <td>Product_15</td>\n",
       "      <td>Region_8</td>\n",
       "      <td>2143.3</td>\n",
       "      <td>5.0</td>\n",
       "      <td>2024-08-27</td>\n",
       "    </tr>\n",
       "  </tbody>\n",
       "</table>\n",
       "</div>"
      ],
      "text/plain": [
       "        Product    Region   Price  Units Sold   Sale Date\n",
       "969  Product_15  Region_8  2143.3         5.0  2024-08-27"
      ]
     },
     "execution_count": 34,
     "metadata": {},
     "output_type": "execute_result"
    }
   ],
   "source": [
    "df[df['Price']>2000]"
   ]
  },
  {
   "attachments": {},
   "cell_type": "markdown",
   "metadata": {},
   "source": [
    "In the histplot, the outlier is located over 2000. Thus, sort the price that is over 2000. the infomation of this outlier comes out. "
   ]
  },
  {
   "cell_type": "code",
   "execution_count": 35,
   "metadata": {},
   "outputs": [],
   "source": [
    "df.drop(969,axis=0,inplace=True)"
   ]
  },
  {
   "attachments": {},
   "cell_type": "markdown",
   "metadata": {},
   "source": [
    "Now,it is clear that the outlier is product_15 in Region_8 priced 2143.3 in row 969. use inplace=true to delete permanently, otherwise it will not be saved in the df."
   ]
  },
  {
   "cell_type": "code",
   "execution_count": 36,
   "metadata": {},
   "outputs": [
    {
     "data": {
      "text/plain": [
       "<Axes: >"
      ]
     },
     "execution_count": 36,
     "metadata": {},
     "output_type": "execute_result"
    },
    {
     "data": {
      "image/png": "[encoded data removed]",
      "text/plain": [
       "<Figure size 640x480 with 1 Axes>"
      ]
     },
     "metadata": {},
     "output_type": "display_data"
    }
   ],
   "source": [
    "sns.boxplot(df['Price'])"
   ]
  },
  {
   "cell_type": "code",
   "execution_count": 37,
   "metadata": {},
   "outputs": [
    {
     "data": {
      "text/plain": [
       "<Axes: xlabel='Price', ylabel='Count'>"
      ]
     },
     "execution_count": 37,
     "metadata": {},
     "output_type": "execute_result"
    },
    {
     "data": {
      "image/png": "[encoded data removed]",
      "text/plain": [
       "<Figure size 640x480 with 1 Axes>"
      ]
     },
     "metadata": {},
     "output_type": "display_data"
    }
   ],
   "source": [
    "sns.histplot(df['Price'])"
   ]
  },
  {
   "cell_type": "code",
   "execution_count": 38,
   "metadata": {},
   "outputs": [
    {
     "data": {
      "text/plain": [
       "<seaborn.axisgrid.FacetGrid at 0x16915ed30>"
      ]
     },
     "execution_count": 38,
     "metadata": {},
     "output_type": "execute_result"
    },
    {
     "data": {
      "image/png": "[encoded data removed]",
      "text/plain": [
       "<Figure size 500x500 with 1 Axes>"
      ]
     },
     "metadata": {},
     "output_type": "display_data"
    }
   ],
   "source": [
    "sns.lmplot(data=df, x='Price', y='Units Sold',fit_reg =True)"
   ]
  },
  {
   "attachments": {},
   "cell_type": "markdown",
   "metadata": {},
   "source": [
    "Then, I used histplot and boxplot again to doublecheck the outlier has been removed. Also, there is no more outlier need to be drop."
   ]
  },
  {
   "cell_type": "code",
   "execution_count": 39,
   "metadata": {},
   "outputs": [
    {
     "data": {
      "text/html": [
       "<div>\n",
       "<style scoped>\n",
       "    .dataframe tbody tr th:only-of-type {\n",
       "        vertical-align: middle;\n",
       "    }\n",
       "\n",
       "    .dataframe tbody tr th {\n",
       "        vertical-align: top;\n",
       "    }\n",
       "\n",
       "    .dataframe thead th {\n",
       "        text-align: right;\n",
       "    }\n",
       "</style>\n",
       "<table border=\"1\" class=\"dataframe\">\n",
       "  <thead>\n",
       "    <tr style=\"text-align: right;\">\n",
       "      <th></th>\n",
       "      <th>Product</th>\n",
       "      <th>Region</th>\n",
       "      <th>Price</th>\n",
       "      <th>Units Sold</th>\n",
       "      <th>Sale Date</th>\n",
       "    </tr>\n",
       "  </thead>\n",
       "  <tbody>\n",
       "    <tr>\n",
       "      <th>0</th>\n",
       "      <td>NaN</td>\n",
       "      <td>Region_6</td>\n",
       "      <td>75.96</td>\n",
       "      <td>10.0</td>\n",
       "      <td>2022-01-01</td>\n",
       "    </tr>\n",
       "    <tr>\n",
       "      <th>1</th>\n",
       "      <td>NaN</td>\n",
       "      <td>Region_1</td>\n",
       "      <td>175.78</td>\n",
       "      <td>8.0</td>\n",
       "      <td>2022-01-02</td>\n",
       "    </tr>\n",
       "    <tr>\n",
       "      <th>2</th>\n",
       "      <td>Product_46</td>\n",
       "      <td>Region_3</td>\n",
       "      <td>20.43</td>\n",
       "      <td>12.0</td>\n",
       "      <td>2022-01-03</td>\n",
       "    </tr>\n",
       "    <tr>\n",
       "      <th>3</th>\n",
       "      <td>Product_36</td>\n",
       "      <td>Region_1</td>\n",
       "      <td>12.77</td>\n",
       "      <td>10.0</td>\n",
       "      <td>2022-01-04</td>\n",
       "    </tr>\n",
       "    <tr>\n",
       "      <th>4</th>\n",
       "      <td>Product_17</td>\n",
       "      <td>Region_6</td>\n",
       "      <td>125.69</td>\n",
       "      <td>6.0</td>\n",
       "      <td>2022-01-05</td>\n",
       "    </tr>\n",
       "    <tr>\n",
       "      <th>...</th>\n",
       "      <td>...</td>\n",
       "      <td>...</td>\n",
       "      <td>...</td>\n",
       "      <td>...</td>\n",
       "      <td>...</td>\n",
       "    </tr>\n",
       "    <tr>\n",
       "      <th>1045</th>\n",
       "      <td>Product_45</td>\n",
       "      <td>Region_7</td>\n",
       "      <td>78.69</td>\n",
       "      <td>8.0</td>\n",
       "      <td>2022-07-28</td>\n",
       "    </tr>\n",
       "    <tr>\n",
       "      <th>1046</th>\n",
       "      <td>Product_1</td>\n",
       "      <td>Region_6</td>\n",
       "      <td>NaN</td>\n",
       "      <td>8.0</td>\n",
       "      <td>2022-08-02</td>\n",
       "    </tr>\n",
       "    <tr>\n",
       "      <th>1047</th>\n",
       "      <td>Product_17</td>\n",
       "      <td>Region_2</td>\n",
       "      <td>114.37</td>\n",
       "      <td>11.0</td>\n",
       "      <td>2023-12-18</td>\n",
       "    </tr>\n",
       "    <tr>\n",
       "      <th>1048</th>\n",
       "      <td>NaN</td>\n",
       "      <td>Region_8</td>\n",
       "      <td>NaN</td>\n",
       "      <td>5.0</td>\n",
       "      <td>2023-12-27</td>\n",
       "    </tr>\n",
       "    <tr>\n",
       "      <th>1049</th>\n",
       "      <td>Product_16</td>\n",
       "      <td>Region_2</td>\n",
       "      <td>69.30</td>\n",
       "      <td>8.0</td>\n",
       "      <td>2024-02-23</td>\n",
       "    </tr>\n",
       "  </tbody>\n",
       "</table>\n",
       "<p>1049 rows × 5 columns</p>\n",
       "</div>"
      ],
      "text/plain": [
       "         Product    Region   Price  Units Sold   Sale Date\n",
       "0            NaN  Region_6   75.96        10.0  2022-01-01\n",
       "1            NaN  Region_1  175.78         8.0  2022-01-02\n",
       "2     Product_46  Region_3   20.43        12.0  2022-01-03\n",
       "3     Product_36  Region_1   12.77        10.0  2022-01-04\n",
       "4     Product_17  Region_6  125.69         6.0  2022-01-05\n",
       "...          ...       ...     ...         ...         ...\n",
       "1045  Product_45  Region_7   78.69         8.0  2022-07-28\n",
       "1046   Product_1  Region_6     NaN         8.0  2022-08-02\n",
       "1047  Product_17  Region_2  114.37        11.0  2023-12-18\n",
       "1048         NaN  Region_8     NaN         5.0  2023-12-27\n",
       "1049  Product_16  Region_2   69.30         8.0  2024-02-23\n",
       "\n",
       "[1049 rows x 5 columns]"
      ]
     },
     "execution_count": 39,
     "metadata": {},
     "output_type": "execute_result"
    }
   ],
   "source": [
    "df"
   ]
  },
  {
   "attachments": {},
   "cell_type": "markdown",
   "metadata": {},
   "source": [
    "Use df to see that there is 1049 rows now due to the drop of one row with outlier."
   ]
  },
  {
   "cell_type": "code",
   "execution_count": 40,
   "metadata": {},
   "outputs": [],
   "source": [
    "df.drop_duplicates(inplace=True)"
   ]
  },
  {
   "attachments": {},
   "cell_type": "markdown",
   "metadata": {},
   "source": [
    "The duplicates in this model is not meaningful and I think those duplicates might be enter errors. Thus, i decided to drop it permanently to get more accurate data."
   ]
  },
  {
   "cell_type": "code",
   "execution_count": 136,
   "metadata": {},
   "outputs": [
    {
     "data": {
      "text/html": [
       "<div>\n",
       "<style scoped>\n",
       "    .dataframe tbody tr th:only-of-type {\n",
       "        vertical-align: middle;\n",
       "    }\n",
       "\n",
       "    .dataframe tbody tr th {\n",
       "        vertical-align: top;\n",
       "    }\n",
       "\n",
       "    .dataframe thead th {\n",
       "        text-align: right;\n",
       "    }\n",
       "</style>\n",
       "<table border=\"1\" class=\"dataframe\">\n",
       "  <thead>\n",
       "    <tr style=\"text-align: right;\">\n",
       "      <th></th>\n",
       "      <th>Product</th>\n",
       "      <th>Region</th>\n",
       "      <th>Price</th>\n",
       "      <th>Units Sold</th>\n",
       "      <th>Sale Date</th>\n",
       "      <th>Total Sales</th>\n",
       "    </tr>\n",
       "  </thead>\n",
       "  <tbody>\n",
       "    <tr>\n",
       "      <th>2</th>\n",
       "      <td>Product_46</td>\n",
       "      <td>Region_3</td>\n",
       "      <td>20.43</td>\n",
       "      <td>12.000000</td>\n",
       "      <td>2022-01-03</td>\n",
       "      <td>245.16000</td>\n",
       "    </tr>\n",
       "    <tr>\n",
       "      <th>3</th>\n",
       "      <td>Product_36</td>\n",
       "      <td>Region_1</td>\n",
       "      <td>12.77</td>\n",
       "      <td>10.000000</td>\n",
       "      <td>2022-01-04</td>\n",
       "      <td>127.70000</td>\n",
       "    </tr>\n",
       "    <tr>\n",
       "      <th>4</th>\n",
       "      <td>Product_17</td>\n",
       "      <td>Region_6</td>\n",
       "      <td>125.69</td>\n",
       "      <td>6.000000</td>\n",
       "      <td>2022-01-05</td>\n",
       "      <td>754.14000</td>\n",
       "    </tr>\n",
       "    <tr>\n",
       "      <th>5</th>\n",
       "      <td>Product_45</td>\n",
       "      <td>Region_1</td>\n",
       "      <td>8.63</td>\n",
       "      <td>11.000000</td>\n",
       "      <td>2022-01-06</td>\n",
       "      <td>94.93000</td>\n",
       "    </tr>\n",
       "    <tr>\n",
       "      <th>6</th>\n",
       "      <td>Product_31</td>\n",
       "      <td>Region_3</td>\n",
       "      <td>23.73</td>\n",
       "      <td>6.000000</td>\n",
       "      <td>2022-01-07</td>\n",
       "      <td>142.38000</td>\n",
       "    </tr>\n",
       "    <tr>\n",
       "      <th>...</th>\n",
       "      <td>...</td>\n",
       "      <td>...</td>\n",
       "      <td>...</td>\n",
       "      <td>...</td>\n",
       "      <td>...</td>\n",
       "      <td>...</td>\n",
       "    </tr>\n",
       "    <tr>\n",
       "      <th>988</th>\n",
       "      <td>Product_42</td>\n",
       "      <td>Region_9</td>\n",
       "      <td>240.97</td>\n",
       "      <td>10.073415</td>\n",
       "      <td>2024-09-15</td>\n",
       "      <td>2427.39079</td>\n",
       "    </tr>\n",
       "    <tr>\n",
       "      <th>993</th>\n",
       "      <td>Product_7</td>\n",
       "      <td>Region_9</td>\n",
       "      <td>128.51</td>\n",
       "      <td>17.000000</td>\n",
       "      <td>2024-09-20</td>\n",
       "      <td>2184.67000</td>\n",
       "    </tr>\n",
       "    <tr>\n",
       "      <th>994</th>\n",
       "      <td>Product_1</td>\n",
       "      <td>Region_4</td>\n",
       "      <td>95.24</td>\n",
       "      <td>7.000000</td>\n",
       "      <td>2024-09-21</td>\n",
       "      <td>666.68000</td>\n",
       "    </tr>\n",
       "    <tr>\n",
       "      <th>998</th>\n",
       "      <td>Product_2</td>\n",
       "      <td>Region_10</td>\n",
       "      <td>43.44</td>\n",
       "      <td>15.000000</td>\n",
       "      <td>2024-09-25</td>\n",
       "      <td>651.60000</td>\n",
       "    </tr>\n",
       "    <tr>\n",
       "      <th>999</th>\n",
       "      <td>Product_35</td>\n",
       "      <td>Region_8</td>\n",
       "      <td>56.95</td>\n",
       "      <td>6.000000</td>\n",
       "      <td>2024-09-26</td>\n",
       "      <td>341.70000</td>\n",
       "    </tr>\n",
       "  </tbody>\n",
       "</table>\n",
       "<p>809 rows × 6 columns</p>\n",
       "</div>"
      ],
      "text/plain": [
       "        Product     Region   Price  Units Sold   Sale Date  Total Sales\n",
       "2    Product_46   Region_3   20.43   12.000000  2022-01-03    245.16000\n",
       "3    Product_36   Region_1   12.77   10.000000  2022-01-04    127.70000\n",
       "4    Product_17   Region_6  125.69    6.000000  2022-01-05    754.14000\n",
       "5    Product_45   Region_1    8.63   11.000000  2022-01-06     94.93000\n",
       "6    Product_31   Region_3   23.73    6.000000  2022-01-07    142.38000\n",
       "..          ...        ...     ...         ...         ...          ...\n",
       "988  Product_42   Region_9  240.97   10.073415  2024-09-15   2427.39079\n",
       "993   Product_7   Region_9  128.51   17.000000  2024-09-20   2184.67000\n",
       "994   Product_1   Region_4   95.24    7.000000  2024-09-21    666.68000\n",
       "998   Product_2  Region_10   43.44   15.000000  2024-09-25    651.60000\n",
       "999  Product_35   Region_8   56.95    6.000000  2024-09-26    341.70000\n",
       "\n",
       "[809 rows x 6 columns]"
      ]
     },
     "execution_count": 136,
     "metadata": {},
     "output_type": "execute_result"
    }
   ],
   "source": [
    "df"
   ]
  },
  {
   "attachments": {},
   "cell_type": "markdown",
   "metadata": {},
   "source": [
    "Double check what's the new df looks like. There are only 809 rows left. And cleaning step is almost done."
   ]
  },
  {
   "cell_type": "code",
   "execution_count": 137,
   "metadata": {},
   "outputs": [
    {
     "data": {
      "text/html": [
       "<div>\n",
       "<style scoped>\n",
       "    .dataframe tbody tr th:only-of-type {\n",
       "        vertical-align: middle;\n",
       "    }\n",
       "\n",
       "    .dataframe tbody tr th {\n",
       "        vertical-align: top;\n",
       "    }\n",
       "\n",
       "    .dataframe thead th {\n",
       "        text-align: right;\n",
       "    }\n",
       "</style>\n",
       "<table border=\"1\" class=\"dataframe\">\n",
       "  <thead>\n",
       "    <tr style=\"text-align: right;\">\n",
       "      <th></th>\n",
       "      <th>Product</th>\n",
       "      <th>Region</th>\n",
       "      <th>Price</th>\n",
       "      <th>Units Sold</th>\n",
       "      <th>Sale Date</th>\n",
       "      <th>Total Sales</th>\n",
       "    </tr>\n",
       "  </thead>\n",
       "  <tbody>\n",
       "    <tr>\n",
       "      <th>count</th>\n",
       "      <td>809</td>\n",
       "      <td>809</td>\n",
       "      <td>809.000000</td>\n",
       "      <td>809.000000</td>\n",
       "      <td>809</td>\n",
       "      <td>809.000000</td>\n",
       "    </tr>\n",
       "    <tr>\n",
       "      <th>unique</th>\n",
       "      <td>50</td>\n",
       "      <td>10</td>\n",
       "      <td>NaN</td>\n",
       "      <td>NaN</td>\n",
       "      <td>809</td>\n",
       "      <td>NaN</td>\n",
       "    </tr>\n",
       "    <tr>\n",
       "      <th>top</th>\n",
       "      <td>Product_5</td>\n",
       "      <td>Region_9</td>\n",
       "      <td>NaN</td>\n",
       "      <td>NaN</td>\n",
       "      <td>2022-01-03</td>\n",
       "      <td>NaN</td>\n",
       "    </tr>\n",
       "    <tr>\n",
       "      <th>freq</th>\n",
       "      <td>28</td>\n",
       "      <td>96</td>\n",
       "      <td>NaN</td>\n",
       "      <td>NaN</td>\n",
       "      <td>1</td>\n",
       "      <td>NaN</td>\n",
       "    </tr>\n",
       "    <tr>\n",
       "      <th>mean</th>\n",
       "      <td>NaN</td>\n",
       "      <td>NaN</td>\n",
       "      <td>104.135957</td>\n",
       "      <td>10.107293</td>\n",
       "      <td>NaN</td>\n",
       "      <td>1039.491181</td>\n",
       "    </tr>\n",
       "    <tr>\n",
       "      <th>std</th>\n",
       "      <td>NaN</td>\n",
       "      <td>NaN</td>\n",
       "      <td>99.140657</td>\n",
       "      <td>3.064107</td>\n",
       "      <td>NaN</td>\n",
       "      <td>1053.760396</td>\n",
       "    </tr>\n",
       "    <tr>\n",
       "      <th>min</th>\n",
       "      <td>NaN</td>\n",
       "      <td>NaN</td>\n",
       "      <td>0.200000</td>\n",
       "      <td>2.000000</td>\n",
       "      <td>NaN</td>\n",
       "      <td>0.990000</td>\n",
       "    </tr>\n",
       "    <tr>\n",
       "      <th>25%</th>\n",
       "      <td>NaN</td>\n",
       "      <td>NaN</td>\n",
       "      <td>33.790000</td>\n",
       "      <td>8.000000</td>\n",
       "      <td>NaN</td>\n",
       "      <td>296.050000</td>\n",
       "    </tr>\n",
       "    <tr>\n",
       "      <th>50%</th>\n",
       "      <td>NaN</td>\n",
       "      <td>NaN</td>\n",
       "      <td>87.660000</td>\n",
       "      <td>10.000000</td>\n",
       "      <td>NaN</td>\n",
       "      <td>798.830000</td>\n",
       "    </tr>\n",
       "    <tr>\n",
       "      <th>75%</th>\n",
       "      <td>NaN</td>\n",
       "      <td>NaN</td>\n",
       "      <td>129.130000</td>\n",
       "      <td>12.000000</td>\n",
       "      <td>NaN</td>\n",
       "      <td>1370.200000</td>\n",
       "    </tr>\n",
       "    <tr>\n",
       "      <th>max</th>\n",
       "      <td>NaN</td>\n",
       "      <td>NaN</td>\n",
       "      <td>713.290000</td>\n",
       "      <td>22.000000</td>\n",
       "      <td>NaN</td>\n",
       "      <td>7607.210000</td>\n",
       "    </tr>\n",
       "  </tbody>\n",
       "</table>\n",
       "</div>"
      ],
      "text/plain": [
       "          Product    Region       Price  Units Sold   Sale Date  Total Sales\n",
       "count         809       809  809.000000  809.000000         809   809.000000\n",
       "unique         50        10         NaN         NaN         809          NaN\n",
       "top     Product_5  Region_9         NaN         NaN  2022-01-03          NaN\n",
       "freq           28        96         NaN         NaN           1          NaN\n",
       "mean          NaN       NaN  104.135957   10.107293         NaN  1039.491181\n",
       "std           NaN       NaN   99.140657    3.064107         NaN  1053.760396\n",
       "min           NaN       NaN    0.200000    2.000000         NaN     0.990000\n",
       "25%           NaN       NaN   33.790000    8.000000         NaN   296.050000\n",
       "50%           NaN       NaN   87.660000   10.000000         NaN   798.830000\n",
       "75%           NaN       NaN  129.130000   12.000000         NaN  1370.200000\n",
       "max           NaN       NaN  713.290000   22.000000         NaN  7607.210000"
      ]
     },
     "execution_count": 137,
     "metadata": {},
     "output_type": "execute_result"
    }
   ],
   "source": [
    "df.describe(include='all')"
   ]
  },
  {
   "cell_type": "code",
   "execution_count": 43,
   "metadata": {},
   "outputs": [],
   "source": [
    "df['Price']=df['Price'].fillna(df['Price'].mean())"
   ]
  },
  {
   "attachments": {},
   "cell_type": "markdown",
   "metadata": {},
   "source": [
    "After deleting the object missing value, i am going to deal with the float type missing value.\n",
    "As i can clearly see the change of mean in the chart above and it is reasonable to replace them with mean value.\n",
    "I use fillna to flling the nan value in price coloum with the mean value."
   ]
  },
  {
   "cell_type": "code",
   "execution_count": 44,
   "metadata": {},
   "outputs": [],
   "source": [
    "df['Units Sold']=df['Units Sold'].fillna(df['Units Sold'].mean())"
   ]
  },
  {
   "attachments": {},
   "cell_type": "markdown",
   "metadata": {},
   "source": [
    "same as the code above, i used fillna to filling the nan value in units sold column with the mean value."
   ]
  },
  {
   "cell_type": "code",
   "execution_count": 45,
   "metadata": {},
   "outputs": [],
   "source": [
    "df.dropna(subset=['Product'],inplace=True)"
   ]
  },
  {
   "attachments": {},
   "cell_type": "markdown",
   "metadata": {},
   "source": [
    "Considering about the missing value in product coloum, the product is necessary to be compared by other variables.\n",
    "Thus, change the nan value to other name like 'product_other' is not meaningful. I decided to delete the row not showing the product name permanently."
   ]
  },
  {
   "cell_type": "code",
   "execution_count": 46,
   "metadata": {},
   "outputs": [],
   "source": [
    "df.dropna(subset=['Region'],inplace=True)"
   ]
  },
  {
   "attachments": {},
   "cell_type": "markdown",
   "metadata": {},
   "source": [
    "Same as product coloum, Region is a significant variable that need to do analyze the sales performance. Delete the row with no Region value can make the dataset more organized."
   ]
  },
  {
   "cell_type": "code",
   "execution_count": 47,
   "metadata": {},
   "outputs": [
    {
     "data": {
      "text/html": [
       "<div>\n",
       "<style scoped>\n",
       "    .dataframe tbody tr th:only-of-type {\n",
       "        vertical-align: middle;\n",
       "    }\n",
       "\n",
       "    .dataframe tbody tr th {\n",
       "        vertical-align: top;\n",
       "    }\n",
       "\n",
       "    .dataframe thead th {\n",
       "        text-align: right;\n",
       "    }\n",
       "</style>\n",
       "<table border=\"1\" class=\"dataframe\">\n",
       "  <thead>\n",
       "    <tr style=\"text-align: right;\">\n",
       "      <th></th>\n",
       "      <th>Product</th>\n",
       "      <th>Region</th>\n",
       "      <th>Price</th>\n",
       "      <th>Units Sold</th>\n",
       "      <th>Sale Date</th>\n",
       "    </tr>\n",
       "  </thead>\n",
       "  <tbody>\n",
       "    <tr>\n",
       "      <th>count</th>\n",
       "      <td>809</td>\n",
       "      <td>809</td>\n",
       "      <td>809.000000</td>\n",
       "      <td>809.000000</td>\n",
       "      <td>809</td>\n",
       "    </tr>\n",
       "    <tr>\n",
       "      <th>unique</th>\n",
       "      <td>50</td>\n",
       "      <td>10</td>\n",
       "      <td>NaN</td>\n",
       "      <td>NaN</td>\n",
       "      <td>809</td>\n",
       "    </tr>\n",
       "    <tr>\n",
       "      <th>top</th>\n",
       "      <td>Product_5</td>\n",
       "      <td>Region_9</td>\n",
       "      <td>NaN</td>\n",
       "      <td>NaN</td>\n",
       "      <td>2022-01-03</td>\n",
       "    </tr>\n",
       "    <tr>\n",
       "      <th>freq</th>\n",
       "      <td>28</td>\n",
       "      <td>96</td>\n",
       "      <td>NaN</td>\n",
       "      <td>NaN</td>\n",
       "      <td>1</td>\n",
       "    </tr>\n",
       "    <tr>\n",
       "      <th>mean</th>\n",
       "      <td>NaN</td>\n",
       "      <td>NaN</td>\n",
       "      <td>104.135957</td>\n",
       "      <td>10.107293</td>\n",
       "      <td>NaN</td>\n",
       "    </tr>\n",
       "    <tr>\n",
       "      <th>std</th>\n",
       "      <td>NaN</td>\n",
       "      <td>NaN</td>\n",
       "      <td>99.140657</td>\n",
       "      <td>3.064107</td>\n",
       "      <td>NaN</td>\n",
       "    </tr>\n",
       "    <tr>\n",
       "      <th>min</th>\n",
       "      <td>NaN</td>\n",
       "      <td>NaN</td>\n",
       "      <td>0.200000</td>\n",
       "      <td>2.000000</td>\n",
       "      <td>NaN</td>\n",
       "    </tr>\n",
       "    <tr>\n",
       "      <th>25%</th>\n",
       "      <td>NaN</td>\n",
       "      <td>NaN</td>\n",
       "      <td>33.790000</td>\n",
       "      <td>8.000000</td>\n",
       "      <td>NaN</td>\n",
       "    </tr>\n",
       "    <tr>\n",
       "      <th>50%</th>\n",
       "      <td>NaN</td>\n",
       "      <td>NaN</td>\n",
       "      <td>87.660000</td>\n",
       "      <td>10.000000</td>\n",
       "      <td>NaN</td>\n",
       "    </tr>\n",
       "    <tr>\n",
       "      <th>75%</th>\n",
       "      <td>NaN</td>\n",
       "      <td>NaN</td>\n",
       "      <td>129.130000</td>\n",
       "      <td>12.000000</td>\n",
       "      <td>NaN</td>\n",
       "    </tr>\n",
       "    <tr>\n",
       "      <th>max</th>\n",
       "      <td>NaN</td>\n",
       "      <td>NaN</td>\n",
       "      <td>713.290000</td>\n",
       "      <td>22.000000</td>\n",
       "      <td>NaN</td>\n",
       "    </tr>\n",
       "  </tbody>\n",
       "</table>\n",
       "</div>"
      ],
      "text/plain": [
       "          Product    Region       Price  Units Sold   Sale Date\n",
       "count         809       809  809.000000  809.000000         809\n",
       "unique         50        10         NaN         NaN         809\n",
       "top     Product_5  Region_9         NaN         NaN  2022-01-03\n",
       "freq           28        96         NaN         NaN           1\n",
       "mean          NaN       NaN  104.135957   10.107293         NaN\n",
       "std           NaN       NaN   99.140657    3.064107         NaN\n",
       "min           NaN       NaN    0.200000    2.000000         NaN\n",
       "25%           NaN       NaN   33.790000    8.000000         NaN\n",
       "50%           NaN       NaN   87.660000   10.000000         NaN\n",
       "75%           NaN       NaN  129.130000   12.000000         NaN\n",
       "max           NaN       NaN  713.290000   22.000000         NaN"
      ]
     },
     "execution_count": 47,
     "metadata": {},
     "output_type": "execute_result"
    }
   ],
   "source": [
    "df.describe(include='all')"
   ]
  },
  {
   "cell_type": "code",
   "execution_count": 48,
   "metadata": {},
   "outputs": [
    {
     "name": "stdout",
     "output_type": "stream",
     "text": [
      "<class 'pandas.core.frame.DataFrame'>\n",
      "Index: 809 entries, 2 to 999\n",
      "Data columns (total 5 columns):\n",
      " #   Column      Non-Null Count  Dtype  \n",
      "---  ------      --------------  -----  \n",
      " 0   Product     809 non-null    object \n",
      " 1   Region      809 non-null    object \n",
      " 2   Price       809 non-null    float64\n",
      " 3   Units Sold  809 non-null    float64\n",
      " 4   Sale Date   809 non-null    object \n",
      "dtypes: float64(2), object(3)\n",
      "memory usage: 37.9+ KB\n"
     ]
    }
   ],
   "source": [
    "df.info()"
   ]
  },
  {
   "attachments": {},
   "cell_type": "markdown",
   "metadata": {},
   "source": [
    "This code is used to help me doublcheck there is no missing value. The cleaning step is done by now."
   ]
  },
  {
   "cell_type": "code",
   "execution_count": 212,
   "metadata": {},
   "outputs": [
    {
     "name": "stdout",
     "output_type": "stream",
     "text": [
      "        Product     Region   Price  Units Sold   Sale Date  Total Sales\n",
      "2    Product_46   Region_3   20.43   12.000000  2022-01-03    245.16000\n",
      "3    Product_36   Region_1   12.77   10.000000  2022-01-04    127.70000\n",
      "4    Product_17   Region_6  125.69    6.000000  2022-01-05    754.14000\n",
      "5    Product_45   Region_1    8.63   11.000000  2022-01-06     94.93000\n",
      "6    Product_31   Region_3   23.73    6.000000  2022-01-07    142.38000\n",
      "..          ...        ...     ...         ...         ...          ...\n",
      "988  Product_42   Region_9  240.97   10.073415  2024-09-15   2427.39079\n",
      "993   Product_7   Region_9  128.51   17.000000  2024-09-20   2184.67000\n",
      "994   Product_1   Region_4   95.24    7.000000  2024-09-21    666.68000\n",
      "998   Product_2  Region_10   43.44   15.000000  2024-09-25    651.60000\n",
      "999  Product_35   Region_8   56.95    6.000000  2024-09-26    341.70000\n",
      "\n",
      "[809 rows x 6 columns]\n"
     ]
    }
   ],
   "source": [
    "df['Total Sales']=df['Units Sold']*df['Price']\n",
    "print(df)"
   ]
  },
  {
   "attachments": {},
   "cell_type": "markdown",
   "metadata": {},
   "source": [
    "From my perspective, the column shows the total sales of each product is necessary to genrate the analysis. \n",
    "It will become more clear when use total sales to compared with product or region."
   ]
  },
  {
   "cell_type": "code",
   "execution_count": 213,
   "metadata": {},
   "outputs": [
    {
     "data": {
      "text/html": [
       "<div>\n",
       "<style scoped>\n",
       "    .dataframe tbody tr th:only-of-type {\n",
       "        vertical-align: middle;\n",
       "    }\n",
       "\n",
       "    .dataframe tbody tr th {\n",
       "        vertical-align: top;\n",
       "    }\n",
       "\n",
       "    .dataframe thead th {\n",
       "        text-align: right;\n",
       "    }\n",
       "</style>\n",
       "<table border=\"1\" class=\"dataframe\">\n",
       "  <thead>\n",
       "    <tr style=\"text-align: right;\">\n",
       "      <th></th>\n",
       "      <th>Product</th>\n",
       "      <th>Region</th>\n",
       "      <th>Price</th>\n",
       "      <th>Units Sold</th>\n",
       "      <th>Sale Date</th>\n",
       "      <th>Total Sales</th>\n",
       "    </tr>\n",
       "  </thead>\n",
       "  <tbody>\n",
       "    <tr>\n",
       "      <th>2</th>\n",
       "      <td>Product_46</td>\n",
       "      <td>Region_3</td>\n",
       "      <td>20.430000</td>\n",
       "      <td>12.000000</td>\n",
       "      <td>2022-01-03</td>\n",
       "      <td>245.160000</td>\n",
       "    </tr>\n",
       "    <tr>\n",
       "      <th>3</th>\n",
       "      <td>Product_36</td>\n",
       "      <td>Region_1</td>\n",
       "      <td>12.770000</td>\n",
       "      <td>10.000000</td>\n",
       "      <td>2022-01-04</td>\n",
       "      <td>127.700000</td>\n",
       "    </tr>\n",
       "    <tr>\n",
       "      <th>4</th>\n",
       "      <td>Product_17</td>\n",
       "      <td>Region_6</td>\n",
       "      <td>125.690000</td>\n",
       "      <td>6.000000</td>\n",
       "      <td>2022-01-05</td>\n",
       "      <td>754.140000</td>\n",
       "    </tr>\n",
       "    <tr>\n",
       "      <th>5</th>\n",
       "      <td>Product_45</td>\n",
       "      <td>Region_1</td>\n",
       "      <td>8.630000</td>\n",
       "      <td>11.000000</td>\n",
       "      <td>2022-01-06</td>\n",
       "      <td>94.930000</td>\n",
       "    </tr>\n",
       "    <tr>\n",
       "      <th>6</th>\n",
       "      <td>Product_31</td>\n",
       "      <td>Region_3</td>\n",
       "      <td>23.730000</td>\n",
       "      <td>6.000000</td>\n",
       "      <td>2022-01-07</td>\n",
       "      <td>142.380000</td>\n",
       "    </tr>\n",
       "    <tr>\n",
       "      <th>7</th>\n",
       "      <td>Product_18</td>\n",
       "      <td>Region_7</td>\n",
       "      <td>19.270000</td>\n",
       "      <td>9.000000</td>\n",
       "      <td>2022-01-08</td>\n",
       "      <td>173.430000</td>\n",
       "    </tr>\n",
       "    <tr>\n",
       "      <th>8</th>\n",
       "      <td>Product_16</td>\n",
       "      <td>Region_9</td>\n",
       "      <td>30.700000</td>\n",
       "      <td>14.000000</td>\n",
       "      <td>2022-01-09</td>\n",
       "      <td>429.800000</td>\n",
       "    </tr>\n",
       "    <tr>\n",
       "      <th>9</th>\n",
       "      <td>Product_9</td>\n",
       "      <td>Region_2</td>\n",
       "      <td>264.050000</td>\n",
       "      <td>7.000000</td>\n",
       "      <td>2022-01-10</td>\n",
       "      <td>1848.350000</td>\n",
       "    </tr>\n",
       "    <tr>\n",
       "      <th>10</th>\n",
       "      <td>Product_20</td>\n",
       "      <td>Region_3</td>\n",
       "      <td>104.189399</td>\n",
       "      <td>8.000000</td>\n",
       "      <td>2022-01-11</td>\n",
       "      <td>833.515195</td>\n",
       "    </tr>\n",
       "    <tr>\n",
       "      <th>11</th>\n",
       "      <td>Product_1</td>\n",
       "      <td>Region_4</td>\n",
       "      <td>63.040000</td>\n",
       "      <td>9.000000</td>\n",
       "      <td>2022-01-12</td>\n",
       "      <td>567.360000</td>\n",
       "    </tr>\n",
       "    <tr>\n",
       "      <th>12</th>\n",
       "      <td>Product_2</td>\n",
       "      <td>Region_3</td>\n",
       "      <td>104.189399</td>\n",
       "      <td>6.000000</td>\n",
       "      <td>2022-01-13</td>\n",
       "      <td>625.136396</td>\n",
       "    </tr>\n",
       "    <tr>\n",
       "      <th>13</th>\n",
       "      <td>Product_1</td>\n",
       "      <td>Region_4</td>\n",
       "      <td>10.150000</td>\n",
       "      <td>8.000000</td>\n",
       "      <td>2022-01-14</td>\n",
       "      <td>81.200000</td>\n",
       "    </tr>\n",
       "    <tr>\n",
       "      <th>14</th>\n",
       "      <td>Product_3</td>\n",
       "      <td>Region_2</td>\n",
       "      <td>13.770000</td>\n",
       "      <td>17.000000</td>\n",
       "      <td>2022-01-15</td>\n",
       "      <td>234.090000</td>\n",
       "    </tr>\n",
       "    <tr>\n",
       "      <th>15</th>\n",
       "      <td>Product_1</td>\n",
       "      <td>Region_2</td>\n",
       "      <td>46.230000</td>\n",
       "      <td>11.000000</td>\n",
       "      <td>2022-01-16</td>\n",
       "      <td>508.530000</td>\n",
       "    </tr>\n",
       "    <tr>\n",
       "      <th>16</th>\n",
       "      <td>Product_43</td>\n",
       "      <td>Region_6</td>\n",
       "      <td>68.530000</td>\n",
       "      <td>10.073415</td>\n",
       "      <td>2022-01-17</td>\n",
       "      <td>690.331123</td>\n",
       "    </tr>\n",
       "  </tbody>\n",
       "</table>\n",
       "</div>"
      ],
      "text/plain": [
       "       Product    Region       Price  Units Sold   Sale Date  Total Sales\n",
       "2   Product_46  Region_3   20.430000   12.000000  2022-01-03   245.160000\n",
       "3   Product_36  Region_1   12.770000   10.000000  2022-01-04   127.700000\n",
       "4   Product_17  Region_6  125.690000    6.000000  2022-01-05   754.140000\n",
       "5   Product_45  Region_1    8.630000   11.000000  2022-01-06    94.930000\n",
       "6   Product_31  Region_3   23.730000    6.000000  2022-01-07   142.380000\n",
       "7   Product_18  Region_7   19.270000    9.000000  2022-01-08   173.430000\n",
       "8   Product_16  Region_9   30.700000   14.000000  2022-01-09   429.800000\n",
       "9    Product_9  Region_2  264.050000    7.000000  2022-01-10  1848.350000\n",
       "10  Product_20  Region_3  104.189399    8.000000  2022-01-11   833.515195\n",
       "11   Product_1  Region_4   63.040000    9.000000  2022-01-12   567.360000\n",
       "12   Product_2  Region_3  104.189399    6.000000  2022-01-13   625.136396\n",
       "13   Product_1  Region_4   10.150000    8.000000  2022-01-14    81.200000\n",
       "14   Product_3  Region_2   13.770000   17.000000  2022-01-15   234.090000\n",
       "15   Product_1  Region_2   46.230000   11.000000  2022-01-16   508.530000\n",
       "16  Product_43  Region_6   68.530000   10.073415  2022-01-17   690.331123"
      ]
     },
     "execution_count": 213,
     "metadata": {},
     "output_type": "execute_result"
    }
   ],
   "source": [
    "df.head(15)"
   ]
  },
  {
   "attachments": {},
   "cell_type": "markdown",
   "metadata": {},
   "source": [
    "Different between units sold is not large.\n",
    "there's huge difference between price of each product."
   ]
  },
  {
   "cell_type": "code",
   "execution_count": 214,
   "metadata": {},
   "outputs": [
    {
     "data": {
      "image/png": "[encoded data removed]",
      "text/plain": [
       "<Figure size 1500x500 with 1 Axes>"
      ]
     },
     "metadata": {},
     "output_type": "display_data"
    }
   ],
   "source": [
    "plt.figure(figsize=(15,5))\n",
    "Corrlation_between_Product_and_Total_Sales=df.groupby('Product')['Total Sales'].sum().sort_values(ascending=False)\n",
    "Corrlation_between_Product_and_Total_Sales.plot(kind='bar')\n",
    "plt.x=('Product')\n",
    "plt.y=('Total Sales')\n",
    "plt.title('Corrlation between Product and Total Sales')\n",
    "plt.show()"
   ]
  },
  {
   "cell_type": "code",
   "execution_count": 199,
   "metadata": {},
   "outputs": [
    {
     "data": {
      "text/plain": [
       "Product\n",
       "Product_31    3047.510000\n",
       "Product_41    2517.628799\n",
       "Product_40    2478.880000\n",
       "Product_19    2366.068799\n",
       "Product_50    2356.348198\n",
       "Product_2     2339.718198\n",
       "Product_30    2297.410000\n",
       "Product_29    2234.439399\n",
       "Product_26    2217.129399\n",
       "Product_34    2186.678198\n",
       "Product_13    2171.698198\n",
       "Product_45    2149.790000\n",
       "Product_5     2070.589399\n",
       "Product_48    2017.830000\n",
       "Product_14    1951.109399\n",
       "Product_4     1946.777597\n",
       "Product_16    1875.529399\n",
       "Product_25    1874.250000\n",
       "Product_49    1871.690000\n",
       "Product_33    1858.168799\n",
       "Product_35    1821.098198\n",
       "Product_23    1799.979399\n",
       "Product_46    1771.708198\n",
       "Product_44    1768.847597\n",
       "Product_17    1750.799399\n",
       "Product_22    1685.408198\n",
       "Product_24    1626.268799\n",
       "Product_20    1605.448198\n",
       "Product_39    1591.130000\n",
       "Product_15    1563.027597\n",
       "Product_37    1562.359399\n",
       "Product_1     1534.698198\n",
       "Product_43    1482.258198\n",
       "Product_47    1454.299399\n",
       "Product_7     1421.898198\n",
       "Product_42    1394.138198\n",
       "Product_21    1334.000000\n",
       "Product_6     1320.148799\n",
       "Product_27    1306.108799\n",
       "Product_28    1251.859399\n",
       "Product_9     1214.939399\n",
       "Product_8     1185.180000\n",
       "Product_12    1081.846997\n",
       "Product_32    1047.817597\n",
       "Product_36    1018.799399\n",
       "Product_10     941.228799\n",
       "Product_18     865.559399\n",
       "Product_38     810.880000\n",
       "Product_11     735.500000\n",
       "Product_3      469.509399\n",
       "Name: Price, dtype: float64"
      ]
     },
     "execution_count": 199,
     "metadata": {},
     "output_type": "execute_result"
    }
   ],
   "source": [
    "# highest price for each product\n",
    "df.groupby('Product')['Price'].sum().sort_values(ascending=False)"
   ]
  },
  {
   "cell_type": "code",
   "execution_count": 174,
   "metadata": {},
   "outputs": [
    {
     "data": {
      "image/png": "[encoded data removed]",
      "text/plain": [
       "<Figure size 1500x500 with 1 Axes>"
      ]
     },
     "metadata": {},
     "output_type": "display_data"
    }
   ],
   "source": [
    "plt.figure(figsize=(15,5))\n",
    "Corrlation_between_Product_and_Units_Sold=df.groupby('Product')['Units Sold'].sum().sort_values(ascending=False)\n",
    "Corrlation_between_Product_and_Units_Sold.plot(kind='bar')\n",
    "plt.x=('Product')\n",
    "plt.y=('Units Sold')\n",
    "plt.title('Corrlation between Product and Units Sold')\n",
    "plt.show()"
   ]
  },
  {
   "cell_type": "code",
   "execution_count": 166,
   "metadata": {},
   "outputs": [
    {
     "data": {
      "text/plain": [
       "Product\n",
       "Product_5     260.440489\n",
       "Product_13    253.146830\n",
       "Product_50    241.146830\n",
       "Product_4     237.073415\n",
       "Product_43    220.073415\n",
       "Product_31    209.000000\n",
       "Product_30    198.367075\n",
       "Product_48    198.000000\n",
       "Product_33    194.073415\n",
       "Product_2     193.146830\n",
       "Product_19    191.000000\n",
       "Product_46    187.073415\n",
       "Product_1     187.000000\n",
       "Product_16    185.000000\n",
       "Product_17    177.073415\n",
       "Product_15    177.073415\n",
       "Product_29    174.220245\n",
       "Product_34    174.073415\n",
       "Product_44    173.220245\n",
       "Product_23    172.146830\n",
       "Product_27    172.146830\n",
       "Product_14    169.146830\n",
       "Product_41    168.000000\n",
       "Product_37    166.073415\n",
       "Product_9     163.146830\n",
       "Product_25    160.073415\n",
       "Product_10    159.073415\n",
       "Product_35    158.073415\n",
       "Product_45    157.367075\n",
       "Product_42    155.220245\n",
       "Product_21    153.220245\n",
       "Product_40    153.146830\n",
       "Product_6     148.220245\n",
       "Product_22    148.220245\n",
       "Product_7     146.000000\n",
       "Product_24    143.073415\n",
       "Product_8     141.146830\n",
       "Product_28    134.073415\n",
       "Product_18    132.146830\n",
       "Product_32    126.000000\n",
       "Product_47    125.146830\n",
       "Product_20    121.146830\n",
       "Product_26    119.000000\n",
       "Product_39    118.073415\n",
       "Product_49    114.000000\n",
       "Product_12    112.000000\n",
       "Product_11    110.220245\n",
       "Product_36    108.146830\n",
       "Product_38    103.146830\n",
       "Product_3      90.000000\n",
       "Name: Units Sold, dtype: float64"
      ]
     },
     "execution_count": 166,
     "metadata": {},
     "output_type": "execute_result"
    }
   ],
   "source": [
    "# Units sold for each product\n",
    "df.groupby('Product')['Units Sold'].sum().sort_values(ascending=False)"
   ]
  },
  {
   "cell_type": "code",
   "execution_count": 198,
   "metadata": {},
   "outputs": [
    {
     "data": {
      "text/html": [
       "<div>\n",
       "<style scoped>\n",
       "    .dataframe tbody tr th:only-of-type {\n",
       "        vertical-align: middle;\n",
       "    }\n",
       "\n",
       "    .dataframe tbody tr th {\n",
       "        vertical-align: top;\n",
       "    }\n",
       "\n",
       "    .dataframe thead th {\n",
       "        text-align: right;\n",
       "    }\n",
       "</style>\n",
       "<table border=\"1\" class=\"dataframe\">\n",
       "  <thead>\n",
       "    <tr style=\"text-align: right;\">\n",
       "      <th></th>\n",
       "      <th>Product</th>\n",
       "      <th>Region</th>\n",
       "      <th>Price</th>\n",
       "      <th>Units Sold</th>\n",
       "      <th>Sale Date</th>\n",
       "      <th>Total Sales</th>\n",
       "    </tr>\n",
       "  </thead>\n",
       "  <tbody>\n",
       "    <tr>\n",
       "      <th>14</th>\n",
       "      <td>Product_3</td>\n",
       "      <td>Region_2</td>\n",
       "      <td>13.770000</td>\n",
       "      <td>17.0</td>\n",
       "      <td>2022-01-15</td>\n",
       "      <td>234.090000</td>\n",
       "    </tr>\n",
       "    <tr>\n",
       "      <th>53</th>\n",
       "      <td>Product_3</td>\n",
       "      <td>Region_6</td>\n",
       "      <td>0.540000</td>\n",
       "      <td>14.0</td>\n",
       "      <td>2022-02-23</td>\n",
       "      <td>7.560000</td>\n",
       "    </tr>\n",
       "    <tr>\n",
       "      <th>131</th>\n",
       "      <td>Product_3</td>\n",
       "      <td>Region_9</td>\n",
       "      <td>79.850000</td>\n",
       "      <td>11.0</td>\n",
       "      <td>2022-05-12</td>\n",
       "      <td>878.350000</td>\n",
       "    </tr>\n",
       "    <tr>\n",
       "      <th>225</th>\n",
       "      <td>Product_3</td>\n",
       "      <td>Region_2</td>\n",
       "      <td>97.210000</td>\n",
       "      <td>16.0</td>\n",
       "      <td>2022-08-14</td>\n",
       "      <td>1555.360000</td>\n",
       "    </tr>\n",
       "    <tr>\n",
       "      <th>243</th>\n",
       "      <td>Product_3</td>\n",
       "      <td>Region_9</td>\n",
       "      <td>104.189399</td>\n",
       "      <td>7.0</td>\n",
       "      <td>2022-09-01</td>\n",
       "      <td>729.325795</td>\n",
       "    </tr>\n",
       "    <tr>\n",
       "      <th>447</th>\n",
       "      <td>Product_3</td>\n",
       "      <td>Region_3</td>\n",
       "      <td>15.050000</td>\n",
       "      <td>3.0</td>\n",
       "      <td>2023-03-24</td>\n",
       "      <td>45.150000</td>\n",
       "    </tr>\n",
       "    <tr>\n",
       "      <th>640</th>\n",
       "      <td>Product_3</td>\n",
       "      <td>Region_8</td>\n",
       "      <td>18.670000</td>\n",
       "      <td>13.0</td>\n",
       "      <td>2023-10-03</td>\n",
       "      <td>242.710000</td>\n",
       "    </tr>\n",
       "    <tr>\n",
       "      <th>878</th>\n",
       "      <td>Product_3</td>\n",
       "      <td>Region_9</td>\n",
       "      <td>140.230000</td>\n",
       "      <td>9.0</td>\n",
       "      <td>2024-05-28</td>\n",
       "      <td>1262.070000</td>\n",
       "    </tr>\n",
       "  </tbody>\n",
       "</table>\n",
       "</div>"
      ],
      "text/plain": [
       "       Product    Region       Price  Units Sold   Sale Date  Total Sales\n",
       "14   Product_3  Region_2   13.770000        17.0  2022-01-15   234.090000\n",
       "53   Product_3  Region_6    0.540000        14.0  2022-02-23     7.560000\n",
       "131  Product_3  Region_9   79.850000        11.0  2022-05-12   878.350000\n",
       "225  Product_3  Region_2   97.210000        16.0  2022-08-14  1555.360000\n",
       "243  Product_3  Region_9  104.189399         7.0  2022-09-01   729.325795\n",
       "447  Product_3  Region_3   15.050000         3.0  2023-03-24    45.150000\n",
       "640  Product_3  Region_8   18.670000        13.0  2023-10-03   242.710000\n",
       "878  Product_3  Region_9  140.230000         9.0  2024-05-28  1262.070000"
      ]
     },
     "execution_count": 198,
     "metadata": {},
     "output_type": "execute_result"
    }
   ],
   "source": [
    "df[df['Product'] == 'Product_3']"
   ]
  },
  {
   "attachments": {},
   "cell_type": "markdown",
   "metadata": {},
   "source": [
    "As it shows the worest performance, this chart can this all the informations correlate with Product_3"
   ]
  },
  {
   "cell_type": "code",
   "execution_count": 128,
   "metadata": {},
   "outputs": [
    {
     "data": {
      "text/plain": [
       "<seaborn.axisgrid.FacetGrid at 0x2938a5310>"
      ]
     },
     "execution_count": 128,
     "metadata": {},
     "output_type": "execute_result"
    },
    {
     "data": {
      "image/png": "[encoded data removed]",
      "text/plain": [
       "<Figure size 500x500 with 1 Axes>"
      ]
     },
     "metadata": {},
     "output_type": "display_data"
    }
   ],
   "source": [
    "sns.lmplot(data=df, x='Price', y='Units Sold',fit_reg =True)"
   ]
  },
  {
   "attachments": {},
   "cell_type": "markdown",
   "metadata": {},
   "source": [
    "By using this lmplot, i want to see the linear regression to see the relationship between price and units sold."
   ]
  },
  {
   "cell_type": "code",
   "execution_count": 130,
   "metadata": {},
   "outputs": [
    {
     "data": {
      "text/plain": [
       "<seaborn.axisgrid.FacetGrid at 0x293e07a60>"
      ]
     },
     "execution_count": 130,
     "metadata": {},
     "output_type": "execute_result"
    },
    {
     "data": {
      "image/png": "[encoded data removed]",
      "text/plain": [
       "<Figure size 500x500 with 1 Axes>"
      ]
     },
     "metadata": {},
     "output_type": "display_data"
    }
   ],
   "source": [
    "sns.lmplot(data=df, x='Units Sold', y='Total Sales',fit_reg =True)"
   ]
  },
  {
   "attachments": {},
   "cell_type": "markdown",
   "metadata": {},
   "source": [
    "fins out how the units sold relates to the total sales. "
   ]
  },
  {
   "cell_type": "code",
   "execution_count": 132,
   "metadata": {},
   "outputs": [
    {
     "data": {
      "text/plain": [
       "<seaborn.axisgrid.FacetGrid at 0x296583400>"
      ]
     },
     "execution_count": 132,
     "metadata": {},
     "output_type": "execute_result"
    },
    {
     "data": {
      "image/png": "[encoded data removed]",
      "text/plain": [
       "<Figure size 500x500 with 1 Axes>"
      ]
     },
     "metadata": {},
     "output_type": "display_data"
    }
   ],
   "source": [
    "sns.lmplot(data=df, x='Price', y='Total Sales',fit_reg =True)"
   ]
  },
  {
   "attachments": {},
   "cell_type": "markdown",
   "metadata": {},
   "source": [
    "From this lmplot i want to see when price increase, how much sales would change. Compared with the lmplot above, i can tell that revenue is high when set the product with high price. the line here shows the sales will change significantly when the price increase."
   ]
  },
  {
   "cell_type": "code",
   "execution_count": 51,
   "metadata": {},
   "outputs": [
    {
     "data": {
      "text/plain": [
       "Region\n",
       "Region_9     980.660734\n",
       "Region_10    905.587319\n",
       "Region_4     905.367075\n",
       "Region_5     850.734149\n",
       "Region_8     848.954394\n",
       "Region_3     807.513904\n",
       "Region_6     770.587319\n",
       "Region_1     745.367075\n",
       "Region_2     724.293660\n",
       "Region_7     637.734149\n",
       "Name: Units Sold, dtype: float64"
      ]
     },
     "execution_count": 51,
     "metadata": {},
     "output_type": "execute_result"
    }
   ],
   "source": [
    "# Region with highest sales\n",
    "df.groupby('Region')['Units Sold'].sum().sort_values(ascending=False)"
   ]
  },
  {
   "attachments": {},
   "cell_type": "markdown",
   "metadata": {},
   "source": [
    "I want to see the correlation between variable group by Region. region_9 has the highest units sold. region_7 has the lowest"
   ]
  },
  {
   "cell_type": "code",
   "execution_count": 208,
   "metadata": {},
   "outputs": [
    {
     "data": {
      "image/png": "[encoded data removed]",
      "text/plain": [
       "<Figure size 800x400 with 1 Axes>"
      ]
     },
     "metadata": {},
     "output_type": "display_data"
    }
   ],
   "source": [
    "plt.figure(figsize=(8,4))\n",
    "Corrlation_between_Region_and_Total_Sales=df.groupby('Region')[('Total Sales')].sum().sort_values(ascending=False)\n",
    "Corrlation_between_Region_and_Total_Sales.plot(kind='bar')\n",
    "plt.x=('Region')\n",
    "plt.y=('Total Sales')\n",
    "plt.title('Corrlation between Region and Total Sales')\n",
    "plt.show()"
   ]
  },
  {
   "cell_type": "code",
   "execution_count": 210,
   "metadata": {},
   "outputs": [
    {
     "data": {
      "text/html": [
       "<div>\n",
       "<style scoped>\n",
       "    .dataframe tbody tr th:only-of-type {\n",
       "        vertical-align: middle;\n",
       "    }\n",
       "\n",
       "    .dataframe tbody tr th {\n",
       "        vertical-align: top;\n",
       "    }\n",
       "\n",
       "    .dataframe thead th {\n",
       "        text-align: right;\n",
       "    }\n",
       "</style>\n",
       "<table border=\"1\" class=\"dataframe\">\n",
       "  <thead>\n",
       "    <tr style=\"text-align: right;\">\n",
       "      <th></th>\n",
       "      <th>Product</th>\n",
       "      <th>Region</th>\n",
       "      <th>Price</th>\n",
       "      <th>Units Sold</th>\n",
       "      <th>Sale Date</th>\n",
       "      <th>Total Sales</th>\n",
       "    </tr>\n",
       "  </thead>\n",
       "  <tbody>\n",
       "    <tr>\n",
       "      <th>22</th>\n",
       "      <td>Product_14</td>\n",
       "      <td>Region_8</td>\n",
       "      <td>119.10</td>\n",
       "      <td>11.000000</td>\n",
       "      <td>2022-01-23</td>\n",
       "      <td>1310.100000</td>\n",
       "    </tr>\n",
       "    <tr>\n",
       "      <th>28</th>\n",
       "      <td>Product_27</td>\n",
       "      <td>Region_8</td>\n",
       "      <td>32.03</td>\n",
       "      <td>10.000000</td>\n",
       "      <td>2022-01-29</td>\n",
       "      <td>320.300000</td>\n",
       "    </tr>\n",
       "    <tr>\n",
       "      <th>29</th>\n",
       "      <td>Product_28</td>\n",
       "      <td>Region_8</td>\n",
       "      <td>217.65</td>\n",
       "      <td>9.000000</td>\n",
       "      <td>2022-01-30</td>\n",
       "      <td>1958.850000</td>\n",
       "    </tr>\n",
       "    <tr>\n",
       "      <th>37</th>\n",
       "      <td>Product_24</td>\n",
       "      <td>Region_8</td>\n",
       "      <td>49.10</td>\n",
       "      <td>5.000000</td>\n",
       "      <td>2022-02-07</td>\n",
       "      <td>245.500000</td>\n",
       "    </tr>\n",
       "    <tr>\n",
       "      <th>40</th>\n",
       "      <td>Product_4</td>\n",
       "      <td>Region_8</td>\n",
       "      <td>86.58</td>\n",
       "      <td>11.000000</td>\n",
       "      <td>2022-02-10</td>\n",
       "      <td>952.380000</td>\n",
       "    </tr>\n",
       "    <tr>\n",
       "      <th>...</th>\n",
       "      <td>...</td>\n",
       "      <td>...</td>\n",
       "      <td>...</td>\n",
       "      <td>...</td>\n",
       "      <td>...</td>\n",
       "      <td>...</td>\n",
       "    </tr>\n",
       "    <tr>\n",
       "      <th>958</th>\n",
       "      <td>Product_15</td>\n",
       "      <td>Region_8</td>\n",
       "      <td>33.87</td>\n",
       "      <td>11.000000</td>\n",
       "      <td>2024-08-16</td>\n",
       "      <td>372.570000</td>\n",
       "    </tr>\n",
       "    <tr>\n",
       "      <th>960</th>\n",
       "      <td>Product_37</td>\n",
       "      <td>Region_8</td>\n",
       "      <td>181.95</td>\n",
       "      <td>12.000000</td>\n",
       "      <td>2024-08-18</td>\n",
       "      <td>2183.400000</td>\n",
       "    </tr>\n",
       "    <tr>\n",
       "      <th>972</th>\n",
       "      <td>Product_44</td>\n",
       "      <td>Region_8</td>\n",
       "      <td>137.66</td>\n",
       "      <td>7.000000</td>\n",
       "      <td>2024-08-30</td>\n",
       "      <td>963.620000</td>\n",
       "    </tr>\n",
       "    <tr>\n",
       "      <th>979</th>\n",
       "      <td>Product_21</td>\n",
       "      <td>Region_8</td>\n",
       "      <td>118.93</td>\n",
       "      <td>10.073415</td>\n",
       "      <td>2024-09-06</td>\n",
       "      <td>1198.031235</td>\n",
       "    </tr>\n",
       "    <tr>\n",
       "      <th>999</th>\n",
       "      <td>Product_35</td>\n",
       "      <td>Region_8</td>\n",
       "      <td>56.95</td>\n",
       "      <td>6.000000</td>\n",
       "      <td>2024-09-26</td>\n",
       "      <td>341.700000</td>\n",
       "    </tr>\n",
       "  </tbody>\n",
       "</table>\n",
       "<p>84 rows × 6 columns</p>\n",
       "</div>"
      ],
      "text/plain": [
       "        Product    Region   Price  Units Sold   Sale Date  Total Sales\n",
       "22   Product_14  Region_8  119.10   11.000000  2022-01-23  1310.100000\n",
       "28   Product_27  Region_8   32.03   10.000000  2022-01-29   320.300000\n",
       "29   Product_28  Region_8  217.65    9.000000  2022-01-30  1958.850000\n",
       "37   Product_24  Region_8   49.10    5.000000  2022-02-07   245.500000\n",
       "40    Product_4  Region_8   86.58   11.000000  2022-02-10   952.380000\n",
       "..          ...       ...     ...         ...         ...          ...\n",
       "958  Product_15  Region_8   33.87   11.000000  2024-08-16   372.570000\n",
       "960  Product_37  Region_8  181.95   12.000000  2024-08-18  2183.400000\n",
       "972  Product_44  Region_8  137.66    7.000000  2024-08-30   963.620000\n",
       "979  Product_21  Region_8  118.93   10.073415  2024-09-06  1198.031235\n",
       "999  Product_35  Region_8   56.95    6.000000  2024-09-26   341.700000\n",
       "\n",
       "[84 rows x 6 columns]"
      ]
     },
     "execution_count": 210,
     "metadata": {},
     "output_type": "execute_result"
    }
   ],
   "source": [
    "df[df['Region'] == 'Region_8']"
   ]
  },
  {
   "attachments": {},
   "cell_type": "markdown",
   "metadata": {},
   "source": [
    "As the bar chart shows the Region 8 has highest sales revenue, but it's performance of units sold is well. \n",
    "Use this code, i want to see all the details related to the Region_8."
   ]
  },
  {
   "cell_type": "code",
   "execution_count": 211,
   "metadata": {},
   "outputs": [
    {
     "data": {
      "text/html": [
       "<div>\n",
       "<style scoped>\n",
       "    .dataframe tbody tr th:only-of-type {\n",
       "        vertical-align: middle;\n",
       "    }\n",
       "\n",
       "    .dataframe tbody tr th {\n",
       "        vertical-align: top;\n",
       "    }\n",
       "\n",
       "    .dataframe thead th {\n",
       "        text-align: right;\n",
       "    }\n",
       "</style>\n",
       "<table border=\"1\" class=\"dataframe\">\n",
       "  <thead>\n",
       "    <tr style=\"text-align: right;\">\n",
       "      <th></th>\n",
       "      <th>Product</th>\n",
       "      <th>Region</th>\n",
       "      <th>Price</th>\n",
       "      <th>Units Sold</th>\n",
       "      <th>Sale Date</th>\n",
       "      <th>Total Sales</th>\n",
       "    </tr>\n",
       "  </thead>\n",
       "  <tbody>\n",
       "    <tr>\n",
       "      <th>8</th>\n",
       "      <td>Product_16</td>\n",
       "      <td>Region_9</td>\n",
       "      <td>30.70</td>\n",
       "      <td>14.000000</td>\n",
       "      <td>2022-01-09</td>\n",
       "      <td>429.800000</td>\n",
       "    </tr>\n",
       "    <tr>\n",
       "      <th>25</th>\n",
       "      <td>Product_13</td>\n",
       "      <td>Region_9</td>\n",
       "      <td>52.22</td>\n",
       "      <td>9.000000</td>\n",
       "      <td>2022-01-26</td>\n",
       "      <td>469.980000</td>\n",
       "    </tr>\n",
       "    <tr>\n",
       "      <th>33</th>\n",
       "      <td>Product_43</td>\n",
       "      <td>Region_9</td>\n",
       "      <td>38.19</td>\n",
       "      <td>10.000000</td>\n",
       "      <td>2022-02-03</td>\n",
       "      <td>381.900000</td>\n",
       "    </tr>\n",
       "    <tr>\n",
       "      <th>34</th>\n",
       "      <td>Product_1</td>\n",
       "      <td>Region_9</td>\n",
       "      <td>47.90</td>\n",
       "      <td>11.000000</td>\n",
       "      <td>2022-02-04</td>\n",
       "      <td>526.900000</td>\n",
       "    </tr>\n",
       "    <tr>\n",
       "      <th>36</th>\n",
       "      <td>Product_2</td>\n",
       "      <td>Region_9</td>\n",
       "      <td>296.03</td>\n",
       "      <td>13.000000</td>\n",
       "      <td>2022-02-06</td>\n",
       "      <td>3848.390000</td>\n",
       "    </tr>\n",
       "    <tr>\n",
       "      <th>...</th>\n",
       "      <td>...</td>\n",
       "      <td>...</td>\n",
       "      <td>...</td>\n",
       "      <td>...</td>\n",
       "      <td>...</td>\n",
       "      <td>...</td>\n",
       "    </tr>\n",
       "    <tr>\n",
       "      <th>980</th>\n",
       "      <td>Product_15</td>\n",
       "      <td>Region_9</td>\n",
       "      <td>23.51</td>\n",
       "      <td>14.000000</td>\n",
       "      <td>2024-09-07</td>\n",
       "      <td>329.140000</td>\n",
       "    </tr>\n",
       "    <tr>\n",
       "      <th>981</th>\n",
       "      <td>Product_33</td>\n",
       "      <td>Region_9</td>\n",
       "      <td>90.01</td>\n",
       "      <td>9.000000</td>\n",
       "      <td>2024-09-08</td>\n",
       "      <td>810.090000</td>\n",
       "    </tr>\n",
       "    <tr>\n",
       "      <th>984</th>\n",
       "      <td>Product_44</td>\n",
       "      <td>Region_9</td>\n",
       "      <td>101.69</td>\n",
       "      <td>10.073415</td>\n",
       "      <td>2024-09-11</td>\n",
       "      <td>1024.365562</td>\n",
       "    </tr>\n",
       "    <tr>\n",
       "      <th>988</th>\n",
       "      <td>Product_42</td>\n",
       "      <td>Region_9</td>\n",
       "      <td>240.97</td>\n",
       "      <td>10.073415</td>\n",
       "      <td>2024-09-15</td>\n",
       "      <td>2427.390790</td>\n",
       "    </tr>\n",
       "    <tr>\n",
       "      <th>993</th>\n",
       "      <td>Product_7</td>\n",
       "      <td>Region_9</td>\n",
       "      <td>128.51</td>\n",
       "      <td>17.000000</td>\n",
       "      <td>2024-09-20</td>\n",
       "      <td>2184.670000</td>\n",
       "    </tr>\n",
       "  </tbody>\n",
       "</table>\n",
       "<p>96 rows × 6 columns</p>\n",
       "</div>"
      ],
      "text/plain": [
       "        Product    Region   Price  Units Sold   Sale Date  Total Sales\n",
       "8    Product_16  Region_9   30.70   14.000000  2022-01-09   429.800000\n",
       "25   Product_13  Region_9   52.22    9.000000  2022-01-26   469.980000\n",
       "33   Product_43  Region_9   38.19   10.000000  2022-02-03   381.900000\n",
       "34    Product_1  Region_9   47.90   11.000000  2022-02-04   526.900000\n",
       "36    Product_2  Region_9  296.03   13.000000  2022-02-06  3848.390000\n",
       "..          ...       ...     ...         ...         ...          ...\n",
       "980  Product_15  Region_9   23.51   14.000000  2024-09-07   329.140000\n",
       "981  Product_33  Region_9   90.01    9.000000  2024-09-08   810.090000\n",
       "984  Product_44  Region_9  101.69   10.073415  2024-09-11  1024.365562\n",
       "988  Product_42  Region_9  240.97   10.073415  2024-09-15  2427.390790\n",
       "993   Product_7  Region_9  128.51   17.000000  2024-09-20  2184.670000\n",
       "\n",
       "[96 rows x 6 columns]"
      ]
     },
     "execution_count": 211,
     "metadata": {},
     "output_type": "execute_result"
    }
   ],
   "source": [
    "df[df['Region'] == 'Region_9']"
   ]
  },
  {
   "attachments": {},
   "cell_type": "markdown",
   "metadata": {},
   "source": [
    "Region_9 generates highest units sold. Check it's info as well."
   ]
  },
  {
   "cell_type": "code",
   "execution_count": 176,
   "metadata": {},
   "outputs": [
    {
     "data": {
      "image/png": "[encoded data removed]",
      "text/plain": [
       "<Figure size 800x400 with 1 Axes>"
      ]
     },
     "metadata": {},
     "output_type": "display_data"
    }
   ],
   "source": [
    "plt.figure(figsize=(8,4))\n",
    "Corrlation_between_Region_and_Units_Sold=df.groupby('Region')[('Units Sold')].sum().sort_values(ascending=False)\n",
    "Corrlation_between_Region_and_Units_Sold.plot(kind='bar')\n",
    "plt.x=('Region')\n",
    "plt.y=('Units Sold')\n",
    "plt.title('Corrlation between Region and Units Sold')\n",
    "plt.show()"
   ]
  },
  {
   "cell_type": "code",
   "execution_count": 193,
   "metadata": {},
   "outputs": [
    {
     "data": {
      "text/plain": [
       "Region\n",
       "Region_9     10405.548198\n",
       "Region_8     10185.675195\n",
       "Region_4      9749.042191\n",
       "Region_2      9101.546396\n",
       "Region_10     8707.875795\n",
       "Region_5      8313.364594\n",
       "Region_3      7680.322792\n",
       "Region_1      7334.604594\n",
       "Region_6      6875.603993\n",
       "Region_7      5892.405195\n",
       "Name: Price, dtype: float64"
      ]
     },
     "execution_count": 193,
     "metadata": {},
     "output_type": "execute_result"
    }
   ],
   "source": [
    "# highest price for each Region\n",
    "df.groupby('Region')['Price'].sum().sort_values(ascending=False)"
   ]
  },
  {
   "attachments": {},
   "cell_type": "markdown",
   "metadata": {},
   "source": [
    "Region_9 has highest sum price, highest units sold but 2nd sales revenue.\n",
    "region_8 has 2nd high sum price, highest revenue with medium sales volumn.\n",
    "\n",
    "two region with highest price demonstarte the highes sales volumn."
   ]
  },
  {
   "cell_type": "code",
   "execution_count": 215,
   "metadata": {},
   "outputs": [
    {
     "data": {
      "text/html": [
       "<div>\n",
       "<style scoped>\n",
       "    .dataframe tbody tr th:only-of-type {\n",
       "        vertical-align: middle;\n",
       "    }\n",
       "\n",
       "    .dataframe tbody tr th {\n",
       "        vertical-align: top;\n",
       "    }\n",
       "\n",
       "    .dataframe thead th {\n",
       "        text-align: right;\n",
       "    }\n",
       "</style>\n",
       "<table border=\"1\" class=\"dataframe\">\n",
       "  <thead>\n",
       "    <tr style=\"text-align: right;\">\n",
       "      <th></th>\n",
       "      <th>Product</th>\n",
       "      <th>Region</th>\n",
       "      <th>Price</th>\n",
       "      <th>Units Sold</th>\n",
       "      <th>Sale Date</th>\n",
       "      <th>Total Sales</th>\n",
       "    </tr>\n",
       "  </thead>\n",
       "  <tbody>\n",
       "    <tr>\n",
       "      <th>2</th>\n",
       "      <td>Product_46</td>\n",
       "      <td>Region_3</td>\n",
       "      <td>20.43</td>\n",
       "      <td>12.000000</td>\n",
       "      <td>2022-01-03</td>\n",
       "      <td>245.16000</td>\n",
       "    </tr>\n",
       "    <tr>\n",
       "      <th>3</th>\n",
       "      <td>Product_36</td>\n",
       "      <td>Region_1</td>\n",
       "      <td>12.77</td>\n",
       "      <td>10.000000</td>\n",
       "      <td>2022-01-04</td>\n",
       "      <td>127.70000</td>\n",
       "    </tr>\n",
       "    <tr>\n",
       "      <th>4</th>\n",
       "      <td>Product_17</td>\n",
       "      <td>Region_6</td>\n",
       "      <td>125.69</td>\n",
       "      <td>6.000000</td>\n",
       "      <td>2022-01-05</td>\n",
       "      <td>754.14000</td>\n",
       "    </tr>\n",
       "    <tr>\n",
       "      <th>5</th>\n",
       "      <td>Product_45</td>\n",
       "      <td>Region_1</td>\n",
       "      <td>8.63</td>\n",
       "      <td>11.000000</td>\n",
       "      <td>2022-01-06</td>\n",
       "      <td>94.93000</td>\n",
       "    </tr>\n",
       "    <tr>\n",
       "      <th>6</th>\n",
       "      <td>Product_31</td>\n",
       "      <td>Region_3</td>\n",
       "      <td>23.73</td>\n",
       "      <td>6.000000</td>\n",
       "      <td>2022-01-07</td>\n",
       "      <td>142.38000</td>\n",
       "    </tr>\n",
       "    <tr>\n",
       "      <th>...</th>\n",
       "      <td>...</td>\n",
       "      <td>...</td>\n",
       "      <td>...</td>\n",
       "      <td>...</td>\n",
       "      <td>...</td>\n",
       "      <td>...</td>\n",
       "    </tr>\n",
       "    <tr>\n",
       "      <th>988</th>\n",
       "      <td>Product_42</td>\n",
       "      <td>Region_9</td>\n",
       "      <td>240.97</td>\n",
       "      <td>10.073415</td>\n",
       "      <td>2024-09-15</td>\n",
       "      <td>2427.39079</td>\n",
       "    </tr>\n",
       "    <tr>\n",
       "      <th>993</th>\n",
       "      <td>Product_7</td>\n",
       "      <td>Region_9</td>\n",
       "      <td>128.51</td>\n",
       "      <td>17.000000</td>\n",
       "      <td>2024-09-20</td>\n",
       "      <td>2184.67000</td>\n",
       "    </tr>\n",
       "    <tr>\n",
       "      <th>994</th>\n",
       "      <td>Product_1</td>\n",
       "      <td>Region_4</td>\n",
       "      <td>95.24</td>\n",
       "      <td>7.000000</td>\n",
       "      <td>2024-09-21</td>\n",
       "      <td>666.68000</td>\n",
       "    </tr>\n",
       "    <tr>\n",
       "      <th>998</th>\n",
       "      <td>Product_2</td>\n",
       "      <td>Region_10</td>\n",
       "      <td>43.44</td>\n",
       "      <td>15.000000</td>\n",
       "      <td>2024-09-25</td>\n",
       "      <td>651.60000</td>\n",
       "    </tr>\n",
       "    <tr>\n",
       "      <th>999</th>\n",
       "      <td>Product_35</td>\n",
       "      <td>Region_8</td>\n",
       "      <td>56.95</td>\n",
       "      <td>6.000000</td>\n",
       "      <td>2024-09-26</td>\n",
       "      <td>341.70000</td>\n",
       "    </tr>\n",
       "  </tbody>\n",
       "</table>\n",
       "<p>809 rows × 6 columns</p>\n",
       "</div>"
      ],
      "text/plain": [
       "        Product     Region   Price  Units Sold   Sale Date  Total Sales\n",
       "2    Product_46   Region_3   20.43   12.000000  2022-01-03    245.16000\n",
       "3    Product_36   Region_1   12.77   10.000000  2022-01-04    127.70000\n",
       "4    Product_17   Region_6  125.69    6.000000  2022-01-05    754.14000\n",
       "5    Product_45   Region_1    8.63   11.000000  2022-01-06     94.93000\n",
       "6    Product_31   Region_3   23.73    6.000000  2022-01-07    142.38000\n",
       "..          ...        ...     ...         ...         ...          ...\n",
       "988  Product_42   Region_9  240.97   10.073415  2024-09-15   2427.39079\n",
       "993   Product_7   Region_9  128.51   17.000000  2024-09-20   2184.67000\n",
       "994   Product_1   Region_4   95.24    7.000000  2024-09-21    666.68000\n",
       "998   Product_2  Region_10   43.44   15.000000  2024-09-25    651.60000\n",
       "999  Product_35   Region_8   56.95    6.000000  2024-09-26    341.70000\n",
       "\n",
       "[809 rows x 6 columns]"
      ]
     },
     "execution_count": 215,
     "metadata": {},
     "output_type": "execute_result"
    }
   ],
   "source": [
    "df"
   ]
  },
  {
   "attachments": {},
   "cell_type": "markdown",
   "metadata": {},
   "source": [
    "a final check to see the df remain same."
   ]
  },
  {
   "attachments": {},
   "cell_type": "markdown",
   "metadata": {},
   "source": [
    "Conclusion\n",
    "[From product perspective]\n",
    "Higest Units Sold: Product_3 \n",
    "Highest Total Revenue: Product_31\n",
    "Lowest Total Revnue: Product_3\n",
    "Highest Sum Price: Product_31\n",
    "Lowest Sum Price: Product_3\n",
    "\n",
    "Based on the data that I organized above. We can tell that the product_3 with the highest sales volume doesn't gain the highest revenue among all the products. However, the Product_31 has the highest total revenue. Meanwhile,the Units sold of Product_31 ranked only 6th in the bar chart.Also, based on the first lmplot,we can see the relationship between price and Units sold is not obvious. The line shows slightly downward when the price is over 400$. Thus, the increase of the price won't have a significant impact on the units sold.\n",
    "According to the other two lmplot. As the number of units sold increase, the total sales shows a steady upward trend. When the price increase, the total sales tend to increase significantly.\n",
    "To conclude, the revenue gain through higher price is more than the cheaper product with high sales volume.\n",
    "\n",
    "[From Regions perspective]\n",
    "Highest units sold: Region_9\n",
    "Highest Price: Region_9\n",
    "2nd Sales Revenue: Region_9\n",
    "Highesr Sales Revenue: Region_8(units sold ranked medium, 2nd high price)\n",
    "Lowest Price: Region_7\n",
    "Lowest units sold: Region_7\n",
    "Lowest Sales Revenue: Region_7\n",
    "Region_8 and Region_9 demonstarte the highest sum price and sales revenue. the difference bettwen them is not obvious. Region_7 shows the worset performance, the lowest price driven to the lowest sales revenue. it seems like the consumer in Rregion_7 do not prefer to pay for cheap product. \n",
    "From my perspective, higher price is still somehow a factor leading to high sales revenue. Even though the sales volume may be lower, the higher price per unit can compensate for the lower sales volume, leading to higher total revenue. Also, it is necessary to know the consumer behaviour in different region to create various strategy."
   ]
  },
  {
   "attachments": {},
   "cell_type": "markdown",
   "metadata": {},
   "source": [
    "【Specific Recommendations】& 【Recommendation Summary】\n",
    "\n",
    "# Specific\n",
    "1:\n",
    "【Product_3】 has the highest units sold but the lowest sum price and lowest total revenue. This indicates that there is high demand for this product, but its price setting may be too low, which resulting in lower revenue. Look at the specific data relates to Product_3, we can see it's price in different region has huge difference. The sum price of it in Region_6 is only 0.54. However,it performed well in Region 2. \n",
    "To conclude, based on the dataset, company may consider focus selling Product_3 in Region 2. Meanwhile，consider analyzing the market and competition to determine if a price adjustment is needed to optimize revenue without compromising sales volume.\n",
    "\n",
    "2: \n",
    "【Product_31】 has the highest total revenue and the highest sum price. This indicates that it is a high-value product generating significant revenue. \n",
    "Focus on leveraging the success of this product and identifying factors that contribute to its popularity to potentially replicate the success with other products. Meanwhile, the strategy should consider based on the region as well.\n",
    "\n",
    "3:\n",
    "【Region_9】 has the highest units sold, highest price, but second-highest sales revenue. This region seems to have a strong market demand and willingness to pay higher prices.  \n",
    "Company should consider to allocate more resources and marketing efforts to target and expand the customer base in this region.\n",
    "\n",
    "4: \n",
    "【Region_8】Region_8 has the highest sales revenue despite not having the highest units sold. This indicates that the products sold in Region_8 have a higher price point, resulting in substantial revenue per sale. \n",
    "Company can try to analyze the customer base and preferences in Region_8 to understand the factors lead in higher sales revenue. \n",
    "\n",
    "5:\n",
    "【Region_7】has the lowest sum price, lowest units sold, and lowest sales revenue. \n",
    "Company may consider adjusting the pricing strategy, exploring promotional activities, or enhancing the product offering to increase sales volume and revenue. \n",
    "\n",
    "# Recommendation Summary\n",
    "\n",
    "To generate more revenue, i will suggest this e-commerce company set up the price little bit higher while the quality remain same.Since the finding indicates the price and units sold does not correlated significantly. Most of the consumer are more willing to pay with the medium high price. \n",
    "\n",
    "To capitalize on this trend, the company should implement different strategies tailored to each region. It is crucial to continuously analyze sales data, customer feedback, and market trends to understand customer preferences, and identify areas for improvement. Well analyzing sales data will enable the company to make better decisions regarding product development, pricing strategies, and regional approaches.\n",
    "\n",
    "\n",
    "\n"
   ]
  },
  {
   "attachments": {},
   "cell_type": "markdown",
   "metadata": {},
   "source": [
    "Cleaning Steps are described within the code above.\n"
   ]
  }
 ],
 "metadata": {
  "kernelspec": {
   "display_name": "Python 3",
   "language": "python",
   "name": "python3"
  },
  "language_info": {
   "codemirror_mode": {
    "name": "ipython",
    "version": 3
   },
   "file_extension": ".py",
   "mimetype": "text/x-python",
   "name": "python",
   "nbconvert_exporter": "python",
   "pygments_lexer": "ipython3",
   "version": "3.9.6"
  },
  "orig_nbformat": 4
 },
 "nbformat": 4,
 "nbformat_minor": 2
}
